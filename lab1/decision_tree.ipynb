{
 "cells": [
  {
   "cell_type": "markdown",
   "metadata": {
    "deletable": true,
    "editable": true
   },
   "source": [
    "# Introduction to Machine Learning Program Assignment #1\n",
    "#### 0316313 張逸群"
   ]
  },
  {
   "cell_type": "markdown",
   "metadata": {
    "deletable": true,
    "editable": true
   },
   "source": [
    "## Environment\n",
    "\n",
    "- OS X El Capitan\n",
    "- Intel Xeon Processor E3-1231 v3\n",
    "    - 3.40 - 3.80 GHz,\n",
    "    - 4 cores, 8 threads\n",
    "    - 8M Cache\n",
    "- 16GB DDR3 RAM\n",
    "\n",
    "## Language\n",
    "\n",
    "- python 3.5.2\n",
    "- jupyter notebook\n",
    "    \n",
    "## Library\n",
    "\n",
    "- scikit-learn\n",
    "    - ``DecisionTreeClassifier``\n",
    "    - ``confusion_matrix``\n",
    "    - ``KFold``\n",
    "    - ``RandomForestClassifier``\n",
    "    - ``train_test_split``\n",
    "- requests\n",
    "- numpy\n",
    "- csv\n",
    "- matplotlib\n",
    "\n",
    "## How to use this code\n",
    "\n",
    "1. Open .ipynb with jupyter notebook\n",
    "2. ``Kernel`` -> ``Restart & Run All``\n",
    "3. View results below cells\n",
    "\n",
    "Note! This program needs **Network** to download dataset!\n",
    "\n",
    "## Results\n",
    "\n",
    "1. [Resubstitution validation](#resub_result)\n",
    "2. [K-Fold validation](#k_fold_result)\n",
    "3. [Bagging decision tree(random-forest)](#random_result)\n",
    "\n",
    "***\n",
    "***"
   ]
  },
  {
   "cell_type": "markdown",
   "metadata": {
    "deletable": true,
    "editable": true
   },
   "source": [
    "## Download dataset and convert it to ``list``\n",
    "\n",
    "1. The iris dataset can be downloaded online using python ``requests.get`` model function.  \n",
    "2. After ``get``, we'll have a ``response`` object which contrains a ``text`` string member.  \n",
    "3. Using ``StringIO`` and ``csv.reader``, we'll eventually get a ``list`` data!  "
   ]
  },
  {
   "cell_type": "code",
   "execution_count": 1,
   "metadata": {
    "collapsed": false,
    "deletable": true,
    "editable": true
   },
   "outputs": [],
   "source": [
    "# get data set using requests and convert it to csv\n",
    "from io import StringIO\n",
    "import requests\n",
    "import csv\n",
    "\n",
    "iris_site = requests.get('https://archive.ics.uci.edu/ml/machine-learning-databases/iris/iris.data')\n",
    "iris_csv = csv.reader(StringIO(iris_site.text), delimiter=',')\n",
    "iris_list = list(iris_csv)[:-1] # ignore last blank line"
   ]
  },
  {
   "cell_type": "markdown",
   "metadata": {
    "deletable": true,
    "editable": true
   },
   "source": [
    "### Print first 5 row to check currectness"
   ]
  },
  {
   "cell_type": "code",
   "execution_count": 2,
   "metadata": {
    "collapsed": false,
    "deletable": true,
    "editable": true
   },
   "outputs": [
    {
     "name": "stdout",
     "output_type": "stream",
     "text": [
      "length of data: 150\n",
      "['5.1', '3.5', '1.4', '0.2', 'Iris-setosa']\n",
      "['4.9', '3.0', '1.4', '0.2', 'Iris-setosa']\n",
      "['4.7', '3.2', '1.3', '0.2', 'Iris-setosa']\n",
      "['4.6', '3.1', '1.5', '0.2', 'Iris-setosa']\n",
      "['5.0', '3.6', '1.4', '0.2', 'Iris-setosa']\n"
     ]
    }
   ],
   "source": [
    "# check output\n",
    "print( 'length of data:', len(iris_list))\n",
    "for row in iris_list[:5]:\n",
    "    print(row)"
   ]
  },
  {
   "cell_type": "markdown",
   "metadata": {
    "deletable": true,
    "editable": true
   },
   "source": [
    "## Convert string label to index label\n",
    "\n",
    "Using ``dict`` to convert string label to index label."
   ]
  },
  {
   "cell_type": "code",
   "execution_count": 3,
   "metadata": {
    "collapsed": false,
    "deletable": true,
    "editable": true
   },
   "outputs": [],
   "source": [
    "# convert 3 output class to index\n",
    "index_so_far = 0\n",
    "class2index = dict()\n",
    "index2class = dict()\n",
    "for i, row in enumerate(iris_list):\n",
    "    if row[-1] not in class2index:\n",
    "        class2index[ row[-1] ] = index_so_far\n",
    "        index2class[index_so_far] = row[-1]\n",
    "        index_so_far += 1\n",
    "    iris_list[i][-1] = class2index[ row[-1] ]"
   ]
  },
  {
   "cell_type": "code",
   "execution_count": 4,
   "metadata": {
    "collapsed": false,
    "deletable": true,
    "editable": true
   },
   "outputs": [
    {
     "name": "stdout",
     "output_type": "stream",
     "text": [
      "Index to class:\n",
      "0 : Iris-setosa\n",
      "1 : Iris-versicolor\n",
      "2 : Iris-virginica\n",
      "\n",
      "After convertion:\n",
      "['5.1', '3.5', '1.4', '0.2', 0]\n",
      "['4.9', '3.0', '1.4', '0.2', 0]\n",
      "['4.7', '3.2', '1.3', '0.2', 0]\n",
      "['4.6', '3.1', '1.5', '0.2', 0]\n",
      "['5.0', '3.6', '1.4', '0.2', 0]\n"
     ]
    }
   ],
   "source": [
    "# check correctness\n",
    "print('Index to class:')\n",
    "for i in range(3):\n",
    "    print(i, ':', index2class[i])\n",
    "\n",
    "print('\\nAfter convertion:')\n",
    "for row in iris_list[:5]:\n",
    "    print(row)"
   ]
  },
  {
   "cell_type": "markdown",
   "metadata": {
    "deletable": true,
    "editable": true
   },
   "source": [
    "## Using DecisionTreeClassifier to construct a decision-tree model\n",
    "\n",
    "1. Import necessary models\n",
    "2. Separate labels from data list\n",
    "3. Use different ``min_samples_leaf`` option to do pruning\n",
    "    1. ``min_samples_leaf`` guarantees minimal number of samples in one decision tree leaf\n",
    "    2. which is so called __early stopping criteria__\n",
    "4. Get all confusion matrixes for comparison"
   ]
  },
  {
   "cell_type": "code",
   "execution_count": 5,
   "metadata": {
    "collapsed": true,
    "deletable": true,
    "editable": true
   },
   "outputs": [],
   "source": [
    "# do machine learning thing\n",
    "from sklearn.tree import DecisionTreeClassifier\n",
    "from sklearn.metrics import confusion_matrix\n",
    "from sklearn.utils import shuffle\n",
    "import numpy as np\n",
    "\n",
    "x_whole = np.array(iris_list)[:,:-1]\n",
    "y_whole = np.array(iris_list)[:,-1]"
   ]
  },
  {
   "cell_type": "markdown",
   "metadata": {
    "deletable": true,
    "editable": true
   },
   "source": [
    "### Define function for resubstitution validation\n",
    "\n",
    "1. Get a classifier\n",
    "2. Fit it to `X` and `Y` training data\n",
    "3. Get confustion matrix with __same training data__"
   ]
  },
  {
   "cell_type": "code",
   "execution_count": 6,
   "metadata": {
    "collapsed": true,
    "deletable": true,
    "editable": true
   },
   "outputs": [],
   "source": [
    "def get_cm_resub(X, Y, msl):\n",
    "    clf = DecisionTreeClassifier(min_samples_leaf=msl)\n",
    "    clf.fit(X, Y)\n",
    "    pred = clf.predict(X)\n",
    "    true = Y\n",
    "    return confusion_matrix(true, pred)"
   ]
  },
  {
   "cell_type": "code",
   "execution_count": 7,
   "metadata": {
    "collapsed": false,
    "deletable": true,
    "editable": true
   },
   "outputs": [],
   "source": [
    "# resubstitution training\n",
    "\n",
    "# get different confusion matrixes with different min_samples_leaf pruning\n",
    "x_resub, y_resub = shuffle(x_whole, y_whole)\n",
    "resub_cm_1 = get_cm_resub(x_resub, y_resub, 1)\n",
    "resub_cm_3 = get_cm_resub(x_resub, y_resub, 3)\n",
    "resub_cm_5 = get_cm_resub(x_resub, y_resub, 5)"
   ]
  },
  {
   "cell_type": "markdown",
   "metadata": {
    "deletable": true,
    "editable": true
   },
   "source": [
    "### Define function for K-Fold validation\n",
    "\n",
    "1. Use `KFold` function to get K-Fold splits\n",
    "2. Get training and testing data for each fold and fit them to a classifier\n",
    "3. Sum up all confusion matrixes for every classifier\n",
    "4. Return final confusion matrixes"
   ]
  },
  {
   "cell_type": "code",
   "execution_count": 8,
   "metadata": {
    "collapsed": true,
    "deletable": true,
    "editable": true
   },
   "outputs": [],
   "source": [
    "from sklearn.model_selection import KFold\n",
    "def get_cm_kfold(X, Y, msl, K=3):\n",
    "    rtn_cm = np.zeros((3,3))\n",
    "    kf = KFold(n_splits=K)\n",
    "    for train_index, test_index in kf.split(X):\n",
    "        X_train, X_test = X[train_index], X[test_index]\n",
    "        Y_train, Y_test = Y[train_index], Y[test_index]\n",
    "        clf = DecisionTreeClassifier(min_samples_leaf=msl)\n",
    "        clf.fit(X_train, Y_train)\n",
    "        # get confusion matrix\n",
    "        pred = clf.predict(X_test)\n",
    "        rtn_cm += np.array(confusion_matrix(Y_test, pred))\n",
    "    return rtn_cm"
   ]
  },
  {
   "cell_type": "code",
   "execution_count": 9,
   "metadata": {
    "collapsed": false,
    "deletable": true,
    "editable": true
   },
   "outputs": [],
   "source": [
    "x_kfold, y_kfold = shuffle(x_whole, y_whole)\n",
    "kfold_cm_1 = get_cm_kfold(x_kfold, y_kfold, 1)\n",
    "kfold_cm_3 = get_cm_kfold(x_kfold, y_kfold, 3)\n",
    "kfold_cm_5 = get_cm_kfold(x_kfold, y_kfold, 5)"
   ]
  },
  {
   "cell_type": "markdown",
   "metadata": {
    "deletable": true,
    "editable": true
   },
   "source": [
    "## Visualization\n",
    "\n",
    "1. We first define a function to plot a confusion matrix\n",
    "2. We then use ths function to plot all confusion matrixes for comparison"
   ]
  },
  {
   "cell_type": "markdown",
   "metadata": {
    "deletable": true,
    "editable": true
   },
   "source": [
    "### Confusion matrix ploting function\n",
    "\n",
    "This function is designed by [confusion_matrix site](http://scikit-learn.org/stable/auto_examples/model_selection/plot_confusion_matrix.html#sphx-glr-auto-examples-model-selection-plot-confusion-matrix-py)."
   ]
  },
  {
   "cell_type": "code",
   "execution_count": 10,
   "metadata": {
    "collapsed": false,
    "deletable": true,
    "editable": true
   },
   "outputs": [
    {
     "name": "stdout",
     "output_type": "stream",
     "text": [
      "Populating the interactive namespace from numpy and matplotlib\n"
     ]
    },
    {
     "name": "stderr",
     "output_type": "stream",
     "text": [
      "/usr/local/lib/python3.5/site-packages/IPython/core/magics/pylab.py:161: UserWarning: pylab import has clobbered these variables: ['shuffle']\n",
      "`%matplotlib` prevents importing * from pylab and numpy\n",
      "  \"\\n`%matplotlib` prevents importing * from pylab and numpy\"\n"
     ]
    }
   ],
   "source": [
    "# visualization\n",
    "import itertools\n",
    "import matplotlib.pyplot as plt\n",
    "%matplotlib inline\n",
    "%pylab inline\n",
    "pylab.rcParams['figure.figsize'] = (15, 4)\n",
    "\n",
    "def plot_confusion_matrix(cm, classes,\n",
    "                          normalize=False,\n",
    "                          title='Confusion matrix',\n",
    "                          cmap=plt.cm.Blues):\n",
    "    \"\"\"\n",
    "    This function prints and plots the confusion matrix.\n",
    "    Normalization can be applied by setting `normalize=True`.\n",
    "    \"\"\"\n",
    "    plt.imshow(cm, interpolation='nearest', cmap=cmap)\n",
    "    plt.title(title)\n",
    "    plt.colorbar()\n",
    "    tick_marks = np.arange(len(classes))\n",
    "    plt.xticks(tick_marks, classes, rotation=45)\n",
    "    plt.yticks(tick_marks, classes)\n",
    "\n",
    "    if normalize:\n",
    "        cm = cm.astype('float') / cm.sum(axis=1)[:, np.newaxis]\n",
    "\n",
    "    thresh = cm.max() / 2.\n",
    "    for i, j in itertools.product(range(cm.shape[0]), range(cm.shape[1])):\n",
    "        plt.text(j, i, cm[i, j],\n",
    "                 horizontalalignment=\"center\",\n",
    "                 color=\"white\" if cm[i, j] > thresh else \"black\")\n",
    "\n",
    "    plt.tight_layout()\n",
    "    plt.ylabel('True label')\n",
    "    plt.xlabel('Predicted label')"
   ]
  },
  {
   "cell_type": "markdown",
   "metadata": {
    "deletable": true,
    "editable": true
   },
   "source": [
    "## Results\n",
    "\n",
    "### Resubstitution validation <a name=\"resub_result\"></a>\n",
    "\n",
    "Although we use early stopping pruning with min_samples_leaf,  \n",
    "the result in **min_leaf=1** is the best one.  \n",
    "  \n",
    "The more we prune, the larger error we get.  \n",
    "\n",
    "  \n",
    "This might be because resubstitution validation is using the  \n",
    "same set of data for training and testing, pruning will only  \n",
    "result in inaccurate classification."
   ]
  },
  {
   "cell_type": "code",
   "execution_count": 11,
   "metadata": {
    "collapsed": false,
    "deletable": true,
    "editable": true
   },
   "outputs": [
    {
     "name": "stdout",
     "output_type": "stream",
     "text": [
      "resubstitution:\n"
     ]
    },
    {
     "data": {
      "image/png": "[encoded data removed]",
      "text/plain": [
       "<matplotlib.figure.Figure at 0x11166beb8>"
      ]
     },
     "metadata": {},
     "output_type": "display_data"
    }
   ],
   "source": [
    "class_names = [ index2class[0], index2class[1], index2class[2] ]\n",
    "\n",
    "print('resubstitution:')\n",
    "plt.figure()\n",
    "plt.subplot(131)\n",
    "plot_confusion_matrix(resub_cm_1, classes=class_names, normalize=True,\n",
    "                      title='min_leaf=1')\n",
    "plt.subplot(132)\n",
    "plot_confusion_matrix(resub_cm_3, classes=class_names, normalize=True,\n",
    "                      title='min_leaf=3')\n",
    "plt.subplot(133)\n",
    "plot_confusion_matrix(resub_cm_5, classes=class_names, normalize=True,\n",
    "                      title='min_leaf=5')"
   ]
  },
  {
   "cell_type": "markdown",
   "metadata": {
    "deletable": true,
    "editable": true
   },
   "source": [
    "### K-Fold Validation <a name=\"k_fold_result\"></a>\n",
    "\n",
    "In K-Fold validation, pruning is slightly beneficial.  \n",
    "The difference is, however, so little (__0.02__). It's hard  \n",
    "to say if early stopping pruning is actually helpful  \n",
    "in this dataset."
   ]
  },
  {
   "cell_type": "code",
   "execution_count": 12,
   "metadata": {
    "collapsed": false,
    "deletable": true,
    "editable": true
   },
   "outputs": [
    {
     "name": "stdout",
     "output_type": "stream",
     "text": [
      "k-fold, K=3:\n"
     ]
    },
    {
     "data": {
      "image/png": "[encoded data removed]",
      "text/plain": [
       "<matplotlib.figure.Figure at 0x1125facf8>"
      ]
     },
     "metadata": {},
     "output_type": "display_data"
    }
   ],
   "source": [
    "print('k-fold, K=3:')\n",
    "\n",
    "plt.figure()\n",
    "plt.subplot(131)\n",
    "plot_confusion_matrix(kfold_cm_1, classes=class_names, normalize=True,\n",
    "                      title='min_leaf=1')\n",
    "plt.subplot(132)\n",
    "plot_confusion_matrix(kfold_cm_3, classes=class_names, normalize=True,\n",
    "                      title='min_leaf=3')\n",
    "plt.subplot(133)\n",
    "plot_confusion_matrix(kfold_cm_5, classes=class_names, normalize=True,\n",
    "                      title='min_leaf=5')"
   ]
  },
  {
   "cell_type": "markdown",
   "metadata": {
    "deletable": true,
    "editable": true
   },
   "source": [
    "### Bagging decision tree(random-forest) <a name=\"random_result\"></a>\n",
    "\n",
    "> A random forest is a meta estimator that fits a number of decision tree classifiers on various sub-samples of the dataset and use averaging to improve the predictive accuracy and control over-fitting. The sub-sample size is always the same as the original input sample size but the samples are drawn with replacement if bootstrap=True (default).\n",
    "\n",
    "As we can see, the result with random forest classifier is not better than  \n",
    "the standerd decision tree classifier.  \n",
    "Perhaps it's because the __simplicity__ of the data, random forest doesn't  \n",
    "achieve its full potential."
   ]
  },
  {
   "cell_type": "code",
   "execution_count": 13,
   "metadata": {
    "collapsed": false,
    "deletable": true,
    "editable": true
   },
   "outputs": [
    {
     "data": {
      "image/png": "[encoded data removed]",
      "text/plain": [
       "<matplotlib.figure.Figure at 0x1123df4e0>"
      ]
     },
     "metadata": {},
     "output_type": "display_data"
    }
   ],
   "source": [
    "# bagging decision tree, random forest\n",
    "pylab.rcParams['figure.figsize'] = (15, 6)\n",
    "from sklearn.model_selection import train_test_split\n",
    "from sklearn.ensemble import RandomForestClassifier\n",
    "\n",
    "x_rf_train, x_rf_test, y_rf_train, y_rf_test = train_test_split(x_whole, y_whole, test_size=0.33)\n",
    "rf_clf = RandomForestClassifier()\n",
    "rf_clf.fit(x_rf_train, y_rf_train)\n",
    "# get confusion matrix and plot it\n",
    "cm_rf = confusion_matrix( y_rf_test, rf_clf.predict(x_rf_test) )\n",
    "plt.figure()\n",
    "plot_confusion_matrix(np.array(cm_rf), classes=class_names, normalize=True,\n",
    "                      title='Bagging Algorithm - Random Forest')"
   ]
  }
 ],
 "metadata": {
  "kernelspec": {
   "display_name": "Python 3",
   "language": "python",
   "name": "python3"
  },
  "language_info": {
   "codemirror_mode": {
    "name": "ipython",
    "version": 3
   },
   "file_extension": ".py",
   "mimetype": "text/x-python",
   "name": "python",
   "nbconvert_exporter": "python",
   "pygments_lexer": "ipython3",
   "version": "3.5.2"
  }
 },
 "nbformat": 4,
 "nbformat_minor": 1
}
